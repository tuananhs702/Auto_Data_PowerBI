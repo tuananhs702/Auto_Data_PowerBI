{
  "nbformat": 4,
  "nbformat_minor": 0,
  "metadata": {
    "colab": {
      "provenance": []
    },
    "kernelspec": {
      "name": "python3",
      "display_name": "Python 3"
    },
    "language_info": {
      "name": "python"
    }
  },
  "cells": [
    {
      "cell_type": "markdown",
      "source": [
        "# Dán nhãn"
      ],
      "metadata": {
        "id": "eTob0BhjU1RB"
      }
    },
    {
      "cell_type": "markdown",
      "source": [
        "## 1. Sơ khai"
      ],
      "metadata": {
        "id": "XcLGotKGX0yT"
      }
    },
    {
      "cell_type": "code",
      "source": [
        "import pandas as pd\n",
        "import re\n",
        "\n",
        "def clean_text(text):\n",
        "    if text.count(\";\") >= 2:\n",
        "        text = \";\".join(text.split(\";\")[:2])\n",
        "    text = re.split(r'\\s*-\\s*', text)[0]\n",
        "    return text.strip()\n",
        "\n",
        "def categorize(df, keywords_list, category_mapping):\n",
        "    df[\"Label\"] = None  # Khởi tạo cột nhãn\n",
        "    keywords_dict = {kw.lower(): label for label, keywords in category_mapping.items() for kw in keywords}\n",
        "\n",
        "    pattern = \"|\".join(map(re.escape, keywords_dict.keys()))\n",
        "    mask = df[\"Product List\"].str.lower().str.extract(f'({pattern})', expand=False)\n",
        "\n",
        "    df[\"Label\"] = mask.map(keywords_dict)\n",
        "    return df\n",
        "\n",
        "def process_data(file_path, fa_keywords, fa_mapping, c_keywords, c_mapping):\n",
        "    df = pd.read_csv(file_path, encoding=\"utf-8\")\n",
        "    df.drop(['Label'], axis=1, inplace=True, errors='ignore')\n",
        "    df['Left_Text'] = df['Product List'].apply(clean_text)\n",
        "\n",
        "    # Gán nhãn theo nhóm Fa\n",
        "    df = categorize(df, fa_keywords, fa_mapping)\n",
        "\n",
        "    # Lọc những sản phẩm chưa được gán nhãn\n",
        "    df_child = df[df['Label'].isna()].copy()\n",
        "\n",
        "    # Gán nhãn theo nhóm C\n",
        "    df_child = categorize(df_child, c_keywords, c_mapping)\n",
        "\n",
        "    # Gộp kết quả\n",
        "    df_result = df.merge(df_child, on=\"Product List\", how=\"left\", suffixes=('_df', '_df_child'))\n",
        "    df_result[\"Label\"] = df_result[\"Label_df\"].combine_first(df_result[\"Label_df_child\"])\n",
        "    df_result = df_result[['Product List', 'Label']]\n",
        "\n",
        "    # Lưu kết quả\n",
        "    df_result.to_excel(\"df_final_result.xlsx\", index=False, engine=\"openpyxl\")\n",
        "\n",
        "    # Xuất những sản phẩm chưa có nhãn\n",
        "    df_remain = df_result[df_result['Label'].isna()]\n",
        "    df_remain.to_excel(\"df_remain.xlsx\", index=False, engine=\"openpyxl\")\n",
        "\n",
        "    return df_result, df_remain\n",
        "\n",
        "# Danh sách từ khóa\n",
        "fa_keywords = ['Áo', 'Quần', 'Vải', 'Chỉ', 'Khoá', 'Sợi', 'Xơ']\n",
        "fa_mapping = {\n",
        "    'Quần/Áo': ['Áo', 'Quần'],\n",
        "    'Vải': ['Vải'],\n",
        "    'Phụ_trợ': ['Chỉ', 'Khoá'],\n",
        "    'Sợi': ['Sợi'],\n",
        "    'Nguyên_liệu': ['Xơ']\n",
        "}\n",
        "\n",
        "c_keywords = ['jacket', 'fabric', 'thoi', 'woven', 'knitted', 'nlwoven', 'coated', 'phủ', 'lining', 'sheet',\n",
        "              'feather', 'main', 'fiber', 'staple', 'chất', 'plastic', 'metal', 'kéo', 'khóa', 'zipper', 'thread',\n",
        "              'đinh', 'filament', 'tổng_hợp', 'synthetic', 'yarn', 'bag', 'túi']\n",
        "c_mapping = {\n",
        "    'Quần/Áo': ['jacket'],\n",
        "    'Vải': ['fabric', 'thoi', 'woven', 'knitted', 'nlwoven', 'coated', 'phủ', 'lining', 'sheet', 'feather', 'main'],\n",
        "    'Nguyên_liệu': ['fiber', 'staple', 'chất', 'plastic', 'metal'],\n",
        "    'Phụ_trợ': ['kéo', 'khóa', 'zipper', 'thread', 'đinh'],\n",
        "    'Sợi': ['filament', 'tổng_hợp', 'synthetic', 'yarn'],\n",
        "    'Túi_xách': ['bag', 'túi']\n",
        "}\n",
        "\n",
        "# Chạy xử lý\n",
        "final_df, remain_df = process_data(\"Product.csv\", fa_keywords, fa_mapping, c_keywords, c_mapping)\n",
        "print(final_df.head())\n",
        "print(\"Unlabeled rows saved in df_remain.xlsx\")\n"
      ],
      "metadata": {
        "colab": {
          "base_uri": "https://localhost:8080/"
        },
        "id": "wfjJ57BVTrW6",
        "outputId": "f0d6b19d-446a-4ed4-a29f-434829d71399"
      },
      "execution_count": null,
      "outputs": [
        {
          "output_type": "stream",
          "name": "stdout",
          "text": [
            "                                 Product List    Label\n",
            "0   Chỉ may 100D/3 COLOR (3000 met/cone) #&VN  Phụ_trợ\n",
            "1     Chỉ may 150D COLOR (5000 met/cone) #&VN  Phụ_trợ\n",
            "2     Chỉ may 150D WHITE (5000 met/cone) #&VN  Phụ_trợ\n",
            "3     Chỉ may 20/2 COLOR (3000 met/cone) #&VN  Phụ_trợ\n",
            "4    Chỉ may 20/3 color  ( 2000 mét/cuộn)#&VN  Phụ_trợ\n",
            "Unlabeled rows saved in df_remain.xlsx\n"
          ]
        }
      ]
    },
    {
      "cell_type": "markdown",
      "source": [
        "## 2. Code oke"
      ],
      "metadata": {
        "id": "d317gTjrYA8s"
      }
    },
    {
      "cell_type": "code",
      "source": [
        "import pandas as pd\n",
        "import re\n",
        "\n",
        "def clean_text(text):\n",
        "    if text.count(\";\") >= 2:\n",
        "        text = \";\".join(text.split(\";\")[:2])\n",
        "    text = re.split(r'\\s*-\\s*', text)[0]\n",
        "    return text.strip()\n",
        "\n",
        "def categorize(df, keywords_list, category_mapping):\n",
        "    df[\"Label\"] = None  # Khởi tạo cột nhãn\n",
        "    keywords_dict = {kw.lower(): label for label, keywords in category_mapping.items() for kw in keywords}\n",
        "\n",
        "    pattern = \"|\".join(map(re.escape, keywords_dict.keys()))\n",
        "    mask = df[\"Product List\"].str.lower().str.extract(f'({pattern})', expand=False)\n",
        "\n",
        "    df[\"Label\"] = mask.map(keywords_dict)\n",
        "    return df\n",
        "\n",
        "def process_data(file_path, fa_keywords, fa_mapping, c_keywords, c_mapping):\n",
        "    df = pd.read_csv(file_path, encoding=\"utf-8\")\n",
        "    df.drop(['Label'], axis=1, inplace=True, errors='ignore')\n",
        "    df['Left_Text'] = df['Product List'].apply(clean_text)\n",
        "\n",
        "    # Gán nhãn theo nhóm Fa\n",
        "    df = categorize(df, fa_keywords, fa_mapping)\n",
        "\n",
        "    # Lọc những sản phẩm chưa được gán nhãn\n",
        "    df_child = df[df['Label'].isna()].copy()\n",
        "\n",
        "    # Gán nhãn theo nhóm C\n",
        "    df_child = categorize(df_child, c_keywords, c_mapping)\n",
        "\n",
        "    # Gộp kết quả\n",
        "    df_result = df.merge(df_child, on=\"Product List\", how=\"left\", suffixes=('_df', '_df_child'))\n",
        "    df_result[\"Label\"] = df_result[\"Label_df\"].combine_first(df_result[\"Label_df_child\"])\n",
        "    df_result = df_result[['Product List', 'Label']]\n",
        "\n",
        "    # Lưu kết quả\n",
        "    df_result.to_excel(\"df_final_result.xlsx\", index=False, engine=\"openpyxl\")\n",
        "\n",
        "    # Xuất những sản phẩm chưa có nhãn\n",
        "    df_remain = df_result[df_result['Label'].isna()]\n",
        "    df_remain.to_excel(\"df_remain.xlsx\", index=False, engine=\"openpyxl\")\n",
        "\n",
        "    return df_result, df_remain\n",
        "\n",
        "# Danh sách từ khóa\n",
        "fa_keywords = ['kg','Áo', 'Quần', 'vải','Chỉ', 'Khoá', 'Sợi', 'Xơ','short','shirt','coat','vest','gile','blazer',\n",
        "               'bông','thun','knit','textile','wool', 'sợi','Accessorie',\n",
        "               'ring','cúc','chốt','nhãn','thẻ','card','đạn','dây','chun','band','wire','paper','giấy','construction','dựng','bo','móc',\n",
        "               'băng','glue','button','sew','vòng','keo','bao','nút','assort','rivet','stopper','miếng','badges','rope','hide','khuy','nẹp','tag',\n",
        "               'mác','tape','ô zê','decal','đệm','conduit','hanger','fur','ball','kẹp','thun','hook','lông','decora','gòn','nhân tạo','da','label',\n",
        "               'hộp','lock','mắc','chuông','leather']\n",
        "fa_mapping = {\n",
        "    'Quần/Áo': ['Áo', 'Quần', 'short','shirt','coat','vest','gile','blazer'],\n",
        "    'Vải': ['vải','bông','thun','knit','textile'],\n",
        "    'Sợi': ['wool','sợi'],\n",
        "    'Nguyên_liệu': ['Xơ','kg','gòn','nhân tạo','da'],\n",
        "    'Phụ_trợ': ['Chỉ', 'Khoá','Accessorie','ring','cúc','chốt','nhãn','thẻ','card','đạn','dây','chun','band','wire','paper','giấy','construction','dựng','bo','móc',\n",
        "              'băng','glue','button','sew','vòng','keo','bao','nút','assort','rivet','stopper','miếng','badges','rope','hide','khuy','nẹp','tag',\n",
        "              'mác','tape','ô zê','decal','đệm','conduit','hanger','fur','ball','kẹp','thun','hook','lông','decora','label','hộp','lock','mắc','chuông','leather']\n",
        "\n",
        "}\n",
        "\n",
        "c_keywords = ['polyester','cotton','t-shirts','cloth','mũ','oze','bolen','đê','thuộc','jacket', 'fabric', 'thoi', 'woven', 'knitted', 'nlwoven', 'coated', 'phủ', 'lining', 'sheet',\n",
        "              'feather', 'main', 'fiber', 'staple', 'chất', 'plastic', 'metal', 'kéo', 'khóa', 'zipper', 'thread',\n",
        "              'đinh', 'filament', 'tổng_hợp', 'synthetic', 'yarn', 'bag', 'túi','chặn']\n",
        "c_mapping = {\n",
        "    'Vải': ['fabric', 'thoi', 'woven', 'knitted', 'nlwoven', 'coated', 'phủ', 'lining', 'sheet', 'feather', 'main','polyester','cotton'],\n",
        "    'Nguyên_liệu': ['fiber', 'staple', 'chất', 'plastic', 'metal','thuộc'],\n",
        "    'Quần/Áo': ['jacket','t-shirts','cloth','mũ'],\n",
        "    'Phụ_trợ': ['kéo', 'khóa', 'zipper', 'thread', 'đinh','oze','bolen','đê','chặn'],\n",
        "    'Sợi': ['filament', 'tổng_hợp', 'synthetic', 'yarn'],\n",
        "    'Túi_xách': ['bag', 'túi']\n",
        "}\n",
        "\n",
        "# Chạy xử lý\n",
        "final_df, remain_df = process_data(\"Product.csv\", fa_keywords, fa_mapping, c_keywords, c_mapping)\n",
        "print(final_df.head())\n",
        "print(\"Unlabeled rows saved in df_remain.xlsx\")\n"
      ],
      "metadata": {
        "colab": {
          "base_uri": "https://localhost:8080/"
        },
        "id": "mkYdgM5-Evv1",
        "outputId": "01f84178-9051-45b2-b111-54bb2d6cbc2e"
      },
      "execution_count": null,
      "outputs": [
        {
          "output_type": "stream",
          "name": "stdout",
          "text": [
            "                                 Product List    Label\n",
            "0   Chỉ may 100D/3 COLOR (3000 met/cone) #&VN  Phụ_trợ\n",
            "1     Chỉ may 150D COLOR (5000 met/cone) #&VN  Phụ_trợ\n",
            "2     Chỉ may 150D WHITE (5000 met/cone) #&VN  Phụ_trợ\n",
            "3     Chỉ may 20/2 COLOR (3000 met/cone) #&VN  Phụ_trợ\n",
            "4    Chỉ may 20/3 color  ( 2000 mét/cuộn)#&VN  Phụ_trợ\n",
            "Unlabeled rows saved in df_remain.xlsx\n"
          ]
        }
      ]
    }
  ]
}